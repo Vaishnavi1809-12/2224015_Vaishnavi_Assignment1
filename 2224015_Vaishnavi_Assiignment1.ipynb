{
 "cells": [
  {
   "cell_type": "markdown",
   "id": "f8a08d7f",
   "metadata": {},
   "source": [
    "## Vaishnavi\n",
    "2224015- S.Y"
   ]
  },
  {
   "cell_type": "code",
   "execution_count": 1,
   "id": "b35d0166",
   "metadata": {},
   "outputs": [
    {
     "data": {
      "text/plain": [
       "2401"
      ]
     },
     "execution_count": 1,
     "metadata": {},
     "output_type": "execute_result"
    }
   ],
   "source": [
    "# #What is 7 to the power of 4?\n",
    "\n",
    "7**4"
   ]
  },
  {
   "cell_type": "code",
   "execution_count": 2,
   "id": "0cf1bed0",
   "metadata": {},
   "outputs": [
    {
     "data": {
      "text/plain": [
       "['Hi', 'there', 'Yogesh!']"
      ]
     },
     "execution_count": 2,
     "metadata": {},
     "output_type": "execute_result"
    }
   ],
   "source": [
    "#Split this string:**s = \"Hi there Yogesh!\"**into a list\n",
    "\n",
    "s = \"Hi there Yogesh!\"\n",
    "s.split()"
   ]
  },
  {
   "cell_type": "code",
   "execution_count": 3,
   "id": "32b90a4e",
   "metadata": {},
   "outputs": [
    {
     "data": {
      "text/plain": [
       "' ** Given the variables:**\\n\\nplanet = \"Earth\"\\ndiameter = 12742\\n** Use .format() to print the following string: **\\n\\nThe diameter of Earth is 12742 kilometers. '"
      ]
     },
     "execution_count": 3,
     "metadata": {},
     "output_type": "execute_result"
    }
   ],
   "source": [
    "''' ** Given the variables:**\n",
    "\n",
    "planet = \"Earth\"\n",
    "diameter = 12742\n",
    "** Use .format() to print the following string: **\n",
    "\n",
    "The diameter of Earth is 12742 kilometers. '''"
   ]
  },
  {
   "cell_type": "code",
   "execution_count": 4,
   "id": "11431d2e",
   "metadata": {},
   "outputs": [
    {
     "data": {
      "text/plain": [
       "'The diameter of Earth is 12742 kilometers.'"
      ]
     },
     "execution_count": 4,
     "metadata": {},
     "output_type": "execute_result"
    }
   ],
   "source": [
    "sentence = \"The diameter of {} is {} kilometers.\"\n",
    "planet = \"Earth\"\n",
    "diameter = 12742\n",
    "sentence.format(planet,diameter)"
   ]
  },
  {
   "cell_type": "code",
   "execution_count": 5,
   "id": "c64cb2ac",
   "metadata": {},
   "outputs": [
    {
     "data": {
      "text/plain": [
       "'hello'"
      ]
     },
     "execution_count": 5,
     "metadata": {},
     "output_type": "execute_result"
    }
   ],
   "source": [
    "#** Given this nested list, use indexing to grab the word \"hello\" **\n",
    "\n",
    "lst = [1,2,[3,4],[5,[100,200,['hello']],23,11],1,7]\n",
    "lst[3][1][2][0]"
   ]
  },
  {
   "cell_type": "code",
   "execution_count": 6,
   "id": "772c65ec",
   "metadata": {},
   "outputs": [
    {
     "data": {
      "text/plain": [
       "'hello'"
      ]
     },
     "execution_count": 6,
     "metadata": {},
     "output_type": "execute_result"
    }
   ],
   "source": [
    "d = {'k1':[1,2,3,{'tricky':['oh','man','inception',\n",
    "                            {'target':[1,2,3,'hello']}]}]}\n",
    "d['k1'][3]['tricky'][3]['target'][3]"
   ]
  },
  {
   "cell_type": "code",
   "execution_count": 7,
   "id": "0d055372",
   "metadata": {},
   "outputs": [
    {
     "data": {
      "text/plain": [
       "' Create a function that grabs the email website domain from a string in the form: **\\n\\nuser@domain.com'"
      ]
     },
     "execution_count": 7,
     "metadata": {},
     "output_type": "execute_result"
    }
   ],
   "source": [
    "''' Create a function that grabs the email website domain from a string in the form: **\n",
    "\n",
    "user@domain.com'''"
   ]
  },
  {
   "cell_type": "code",
   "execution_count": 8,
   "id": "197b37db",
   "metadata": {},
   "outputs": [
    {
     "name": "stdout",
     "output_type": "stream",
     "text": [
      "gmail.com\n"
     ]
    }
   ],
   "source": [
    "def mail(s):\n",
    "    d=s.index('@')\n",
    "    r=s[d+1:]\n",
    "    print(r)\n",
    "\n",
    "test='vvaishnavi736@gmail.com'\n",
    "mail(test)"
   ]
  },
  {
   "cell_type": "code",
   "execution_count": 9,
   "id": "6f30e17e",
   "metadata": {},
   "outputs": [
    {
     "data": {
      "text/plain": [
       "\"** Create a basic function that returns True if the word 'dog' is contained in the input string.\\nDon't worry about edge cases like a punctuation being attached to the word dog, but do account for capitalization. **\""
      ]
     },
     "execution_count": 9,
     "metadata": {},
     "output_type": "execute_result"
    }
   ],
   "source": [
    "'''** Create a basic function that returns True if the word 'dog' is contained in the input string.\n",
    "Don't worry about edge cases like a punctuation being attached to the word dog, but do account for capitalization. **'''"
   ]
  },
  {
   "cell_type": "code",
   "execution_count": 10,
   "id": "20060f26",
   "metadata": {},
   "outputs": [],
   "source": [
    "def find_dog(s):\n",
    "    r=s.lower().split()\n",
    "    for i in r:\n",
    "        if i=='dog':\n",
    "            print('Dog keyword is present')\n",
    "            return \n",
    "    print('Dog keyword is Not present')"
   ]
  },
  {
   "cell_type": "code",
   "execution_count": 11,
   "id": "c693f54e",
   "metadata": {},
   "outputs": [
    {
     "name": "stdout",
     "output_type": "stream",
     "text": [
      "Dog keyword is present\n"
     ]
    }
   ],
   "source": [
    "z=\"This is cute dog\"\n",
    "find_dog(z)"
   ]
  },
  {
   "cell_type": "code",
   "execution_count": 12,
   "id": "3d732106",
   "metadata": {},
   "outputs": [
    {
     "data": {
      "text/plain": [
       "'** Create a function that counts the number of times the word \"dog\" occurs in a string. Again ignore edge cases. **'"
      ]
     },
     "execution_count": 12,
     "metadata": {},
     "output_type": "execute_result"
    }
   ],
   "source": [
    "'''** Create a function that counts the number of times the word \"dog\" occurs in a string. Again ignore edge cases. **'''"
   ]
  },
  {
   "cell_type": "code",
   "execution_count": 13,
   "id": "0b09a638",
   "metadata": {},
   "outputs": [],
   "source": [
    "def find(s):\n",
    "    r=s.lower().split()\n",
    "    c=r.count('dog')\n",
    "    return c"
   ]
  },
  {
   "cell_type": "code",
   "execution_count": 14,
   "id": "c9ac7b27",
   "metadata": {},
   "outputs": [
    {
     "data": {
      "text/plain": [
       "2"
      ]
     },
     "execution_count": 14,
     "metadata": {},
     "output_type": "execute_result"
    }
   ],
   "source": [
    "z1=\"This is cute dog dog\"\n",
    "z1.lower().split().count('dog')"
   ]
  },
  {
   "cell_type": "code",
   "execution_count": 15,
   "id": "dfc7da35",
   "metadata": {},
   "outputs": [
    {
     "data": {
      "text/plain": [
       "\"** Use lambda expressions and the filter() function to filter out words from a list that don't start with the letter 's'. For example:**\\n\\nseq = ['soup','dog','salad','cat','great']\\nshould be filtered down to:\\n\\n['soup','salad']\""
      ]
     },
     "execution_count": 15,
     "metadata": {},
     "output_type": "execute_result"
    }
   ],
   "source": [
    "'''** Use lambda expressions and the filter() function to filter out words from a list that don't start with the letter 's'. For example:**\n",
    "\n",
    "seq = ['soup','dog','salad','cat','great']\n",
    "should be filtered down to:\n",
    "\n",
    "['soup','salad']'''"
   ]
  },
  {
   "cell_type": "code",
   "execution_count": 16,
   "id": "cd41f817",
   "metadata": {},
   "outputs": [
    {
     "data": {
      "text/plain": [
       "['dog', 'cat', 'great']"
      ]
     },
     "execution_count": 16,
     "metadata": {},
     "output_type": "execute_result"
    }
   ],
   "source": [
    "seq = ['soup','dog','salad','cat','great']\n",
    "x=list(filter(lambda x: x[0]!='s',seq))\n",
    "x"
   ]
  },
  {
   "cell_type": "code",
   "execution_count": 17,
   "id": "2ba707f2",
   "metadata": {},
   "outputs": [
    {
     "data": {
      "text/plain": [
       "'Final Problem\\n**You are driving a little too fast, and a police officer stops you. \\nWrite a function to return one of 3 possible results: \"No ticket\", \"Small ticket\", or \"Big Ticket\". \\nIf your speed is 60 or less, the result is \"No Ticket\".\\nIf speed is between 61 and 80 inclusive, the result is \"Small Ticket\". \\nIf speed is 81 or more, the result is \"Big Ticket\". \\nUnless it is your birthday (encoded as a boolean value in the parameters of the function) -- on your birthday, \\nyour speed can be 5 higher in all cases. **'"
      ]
     },
     "execution_count": 17,
     "metadata": {},
     "output_type": "execute_result"
    }
   ],
   "source": [
    "'''Final Problem\n",
    "**You are driving a little too fast, and a police officer stops you. \n",
    "Write a function to return one of 3 possible results: \"No ticket\", \"Small ticket\", or \"Big Ticket\". \n",
    "If your speed is 60 or less, the result is \"No Ticket\".\n",
    "If speed is between 61 and 80 inclusive, the result is \"Small Ticket\". \n",
    "If speed is 81 or more, the result is \"Big Ticket\". \n",
    "Unless it is your birthday (encoded as a boolean value in the parameters of the function) -- on your birthday, \n",
    "your speed can be 5 higher in all cases. **'''"
   ]
  },
  {
   "cell_type": "code",
   "execution_count": 18,
   "id": "a6738b6d",
   "metadata": {},
   "outputs": [],
   "source": [
    "def speeding(speed, birthday):\n",
    "    \n",
    "    if birthday == True:\n",
    "        speed=speed - 5\n",
    "    if (speed <= 60):\n",
    "        print(\"No ticket\")\n",
    "    elif (speed > 61 and speed <= 80):\n",
    "        print(\"Small ticket\")\n",
    "    else:\n",
    "        print(\"Big ticket\")"
   ]
  },
  {
   "cell_type": "code",
   "execution_count": 19,
   "id": "0d4706f8",
   "metadata": {},
   "outputs": [
    {
     "name": "stdout",
     "output_type": "stream",
     "text": [
      "No ticket\n"
     ]
    }
   ],
   "source": [
    "speeding(65,True)"
   ]
  },
  {
   "cell_type": "code",
   "execution_count": 20,
   "id": "765e954c",
   "metadata": {},
   "outputs": [
    {
     "name": "stdout",
     "output_type": "stream",
     "text": [
      "Small ticket\n"
     ]
    }
   ],
   "source": [
    "speeding(65,False)"
   ]
  },
  {
   "cell_type": "code",
   "execution_count": 21,
   "id": "432f6c66",
   "metadata": {},
   "outputs": [
    {
     "data": {
      "text/plain": [
       "\"Question\\nGiven a string print number num by extracting all the\\ndigits from the string as in string\\nPrint negative number if the first character in \\nstring is '-'\\neg.\\n-123abcd should return -123,abcd456-->456,fdhfh78dsd89--->7889,-56dssd78-->-5678\""
      ]
     },
     "execution_count": 21,
     "metadata": {},
     "output_type": "execute_result"
    }
   ],
   "source": [
    "'''Question\n",
    "Given a string print number num by extracting all the\n",
    "digits from the string as in string\n",
    "Print negative number if the first character in \n",
    "string is '-'\n",
    "eg.\n",
    "-123abcd should return -123,abcd456-->456,fdhfh78dsd89--->7889,-56dssd78-->-5678'''"
   ]
  },
  {
   "cell_type": "code",
   "execution_count": 22,
   "id": "84280c9d",
   "metadata": {},
   "outputs": [
    {
     "name": "stdout",
     "output_type": "stream",
     "text": [
      "747834"
     ]
    }
   ],
   "source": [
    "num = '74bndhuer7834'\n",
    "for i in num:\n",
    "    if i != '-':\n",
    "        if i.isalpha()==False:\n",
    "            print(i,end='')"
   ]
  },
  {
   "cell_type": "code",
   "execution_count": 23,
   "id": "e532dd86",
   "metadata": {},
   "outputs": [
    {
     "data": {
      "text/plain": [
       "'Q2\\nWAP to check whether a number is palindrome or not on following \\nconditions.\\n1. take input number\\n2. add number and its reverse\\n3. check that number is palindrome or not,if not then sum and its reverse'"
      ]
     },
     "execution_count": 23,
     "metadata": {},
     "output_type": "execute_result"
    }
   ],
   "source": [
    "'''Q2\n",
    "WAP to check whether a number is palindrome or not on following \n",
    "conditions.\n",
    "1. take input number\n",
    "2. add number and its reverse\n",
    "3. check that number is palindrome or not,if not then sum and its reverse'''"
   ]
  },
  {
   "cell_type": "code",
   "execution_count": 24,
   "id": "27b24fc4",
   "metadata": {},
   "outputs": [
    {
     "name": "stdout",
     "output_type": "stream",
     "text": [
      "Enter the number : 67\n",
      "No is :  143\n",
      "Reverse is:  341\n",
      "No is :  484\n",
      "Reverse is:  484\n",
      "Palindrome: 484\n"
     ]
    }
   ],
   "source": [
    "num = input(\"Enter the number : \")\n",
    "num1=num[::-1]\n",
    "num3=str(int(num)+int(num1))\n",
    "print(\"No is : \",num3)\n",
    "print(\"Reverse is: \",num3[::-1])\n",
    "while num3 != num3[::-1]:\n",
    "    num3=str(int(num3)+int(num3[::-1]))\n",
    "    print(\"No is : \",num3)\n",
    "    print(\"Reverse is: \",num3[::-1])\n",
    "print(\"Palindrome:\", num3)    "
   ]
  },
  {
   "cell_type": "code",
   "execution_count": 25,
   "id": "edb13e37",
   "metadata": {},
   "outputs": [
    {
     "data": {
      "text/plain": [
       "'Write a python function to find and display the five \\ndigit number in which the first digit is two more than \\nthe second,the second digit is two more than the third,\\nthe fourth digit is two less than the third, and the \\nlast digit is two more than\\nthe fourth.The sum of the third,fourth and fifth digits\\nequals the first.The sum of all the digits is 19'"
      ]
     },
     "execution_count": 25,
     "metadata": {},
     "output_type": "execute_result"
    }
   ],
   "source": [
    "'''Write a python function to find and display the five \n",
    "digit number in which the first digit is two more than \n",
    "the second,the second digit is two more than the third,\n",
    "the fourth digit is two less than the third, and the \n",
    "last digit is two more than\n",
    "the fourth.The sum of the third,fourth and fifth digits\n",
    "equals the first.The sum of all the digits is 19'''"
   ]
  },
  {
   "cell_type": "code",
   "execution_count": 26,
   "id": "124f31e6",
   "metadata": {},
   "outputs": [
    {
     "name": "stdout",
     "output_type": "stream",
     "text": [
      "The five-digit number is: 75313\n"
     ]
    }
   ],
   "source": [
    "def digit():\n",
    "    for num in range(10000, 100000):\n",
    "        digits = [int(digit) for digit in str(num)]\n",
    "        if (digits[0] == digits[1] + 2 and digits[1] == digits[2] + 2 and digits[3] == digits[2] - 2 and digits[4] == digits[3] + 2 and digits[2] + digits[3] + digits[4] == digits[0] and sum(digits) == 19 ):\n",
    "            return num\n",
    "\n",
    "result = digit()\n",
    "print(\"The five-digit number is:\", result)"
   ]
  },
  {
   "cell_type": "markdown",
   "id": "5b36f84f",
   "metadata": {},
   "source": [
    "\n",
    "\n",
    "## COMPLETED"
   ]
  },
  {
   "cell_type": "code",
   "execution_count": null,
   "id": "d5ad69e1",
   "metadata": {},
   "outputs": [],
   "source": []
  }
 ],
 "metadata": {
  "kernelspec": {
   "display_name": "Python 3 (ipykernel)",
   "language": "python",
   "name": "python3"
  },
  "language_info": {
   "codemirror_mode": {
    "name": "ipython",
    "version": 3
   },
   "file_extension": ".py",
   "mimetype": "text/x-python",
   "name": "python",
   "nbconvert_exporter": "python",
   "pygments_lexer": "ipython3",
   "version": "3.11.5"
  }
 },
 "nbformat": 4,
 "nbformat_minor": 5
}
